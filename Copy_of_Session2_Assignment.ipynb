{
  "cells": [
    {
      "cell_type": "markdown",
      "metadata": {
        "id": "view-in-github",
        "colab_type": "text"
      },
      "source": [
        "<a href=\"https://colab.research.google.com/github/nm3924/introduction-to-databases/blob/master/Copy_of_Session2_Assignment.ipynb\" target=\"_parent\"><img src=\"https://colab.research.google.com/assets/colab-badge.svg\" alt=\"Open In Colab\"/></a>"
      ]
    },
    {
      "cell_type": "markdown",
      "metadata": {
        "id": "SkZqhwkf8NUg"
      },
      "source": [
        "# Session 2: Selection Queries Assignment\n",
        "\n",
        "\n",
        "In this segment we will connect to the *Music* database."
      ]
    },
    {
      "cell_type": "markdown",
      "metadata": {
        "id": "5u_6yLTDT6Kn"
      },
      "source": [
        "## Setup"
      ]
    },
    {
      "cell_type": "code",
      "execution_count": null,
      "metadata": {
        "id": "O9o9NsaO8hMy"
      },
      "outputs": [],
      "source": [
        "# !sudo pip3 install PyMySQL sqlalchemy sql_magic"
      ]
    },
    {
      "cell_type": "code",
      "execution_count": null,
      "metadata": {
        "id": "EkIL-uRK8NUi"
      },
      "outputs": [],
      "source": [
        "# This code creates a connection to the database\n",
        "from sqlalchemy import create_engine\n",
        "\n",
        "conn_string = \"mysql+pymysql://{user}:{password}@{host}/{db}?charset={encoding}\".format(\n",
        "    host=\"db.ipeirotis.org\",\n",
        "    user=\"student\",\n",
        "    db=\"music\",\n",
        "    password=\"dwdstudent2015\",\n",
        "    encoding=\"utf8mb4\",\n",
        ")\n",
        "\n",
        "engine = create_engine(conn_string)\n",
        "con = engine.connect()"
      ]
    },
    {
      "cell_type": "code",
      "execution_count": null,
      "metadata": {
        "id": "z7muzQXTUFkU"
      },
      "outputs": [],
      "source": [
        "%reload_ext sql_magic"
      ]
    },
    {
      "cell_type": "code",
      "execution_count": null,
      "metadata": {
        "id": "uHRIPxBvUGfC"
      },
      "outputs": [],
      "source": [
        "%config SQL.conn_name = 'engine'"
      ]
    },
    {
      "cell_type": "markdown",
      "metadata": {
        "id": "4NHX2J7Zl3oY"
      },
      "source": [
        "This is an example of how you can write an SQL query in the notebook.\n",
        "You write your SQL query after the `%%read_sql` line"
      ]
    },
    {
      "cell_type": "code",
      "execution_count": null,
      "metadata": {
        "id": "sWa1Uv_6X9zi"
      },
      "outputs": [],
      "source": [
        "%%read_sql\n",
        "SELECT * \n",
        "FROM played"
      ]
    },
    {
      "cell_type": "markdown",
      "metadata": {
        "id": "H0hhloRRUJlV"
      },
      "source": [
        "## Question 1: Show all the tables that appear in the Music database"
      ]
    },
    {
      "cell_type": "code",
      "execution_count": null,
      "metadata": {
        "id": "eL_CnyPRUSGI"
      },
      "outputs": [],
      "source": [
        "%%read_sql\n",
        "USE music\n",
        "SHOW TABLES;"
      ]
    },
    {
      "cell_type": "markdown",
      "metadata": {
        "id": "Hz_1yX-EUeBQ"
      },
      "source": [
        "## Question 2: Show the attributes available for each artist"
      ]
    },
    {
      "cell_type": "code",
      "execution_count": null,
      "metadata": {
        "id": "HXy0Ygy3Uf_m"
      },
      "outputs": [],
      "source": [
        "%%read_sql\n",
        "DESCRIBE artist;"
      ]
    },
    {
      "cell_type": "markdown",
      "metadata": {
        "id": "UozymxRTW-wx"
      },
      "source": [
        "## Question 3: Show the attributes available for each album"
      ]
    },
    {
      "cell_type": "code",
      "execution_count": null,
      "metadata": {
        "id": "ZwtqsRoGW-wz"
      },
      "outputs": [],
      "source": [
        "%%read_sql\n",
        "DESCRIBE album;"
      ]
    },
    {
      "cell_type": "markdown",
      "metadata": {
        "id": "8NFSCApmXGZ8"
      },
      "source": [
        "## Question 4: Show the attributes available for each track"
      ]
    },
    {
      "cell_type": "code",
      "execution_count": null,
      "metadata": {
        "id": "bcr5iccDXGZ9"
      },
      "outputs": [],
      "source": [
        "%%read_sql\n",
        "DESCRIBE track;"
      ]
    },
    {
      "cell_type": "markdown",
      "metadata": {
        "id": "nezZleqbUeI_"
      },
      "source": [
        "## Question 5: Show all the artists"
      ]
    },
    {
      "cell_type": "code",
      "execution_count": null,
      "metadata": {
        "id": "rNfpSzT3UgrM"
      },
      "outputs": [],
      "source": [
        "%%read_sql\n",
        "SELECT * \n",
        "FROM artist;"
      ]
    },
    {
      "cell_type": "markdown",
      "metadata": {
        "id": "_j2bCzADXODe"
      },
      "source": [
        "## Question 6: Show all the albums"
      ]
    },
    {
      "cell_type": "code",
      "execution_count": null,
      "metadata": {
        "id": "o9h005rlXODf"
      },
      "outputs": [],
      "source": [
        "%%read_sql\n",
        "SELECT *\n",
        "FROM album;"
      ]
    },
    {
      "cell_type": "markdown",
      "metadata": {
        "id": "HF9cHpSDXaZd"
      },
      "source": [
        "## Question 7: Show all the tracks"
      ]
    },
    {
      "cell_type": "code",
      "execution_count": null,
      "metadata": {
        "id": "mvLQdbdiXSmw"
      },
      "outputs": [],
      "source": [
        "%%read_sql\n",
        "SELECT *\n",
        "FROM track;"
      ]
    },
    {
      "cell_type": "markdown",
      "metadata": {
        "id": "ntj5f4n8U3dT"
      },
      "source": [
        "## Question 8: List all the names of the artists, without the artist ids, sorted alphabetically "
      ]
    },
    {
      "cell_type": "code",
      "execution_count": null,
      "metadata": {
        "id": "mPCpyhbwU3dV"
      },
      "outputs": [],
      "source": [
        "%%read_sql\n",
        "SELECT artist_name\n",
        "FROM artist\n",
        "ORDER BY artist_name;"
      ]
    },
    {
      "cell_type": "markdown",
      "metadata": {
        "id": "23bSA8IUU1Og"
      },
      "source": [
        "## Question 9: Show all the album names and the corresponding artist id, but do not show the album_id. Rename the album_name attribute to album_title."
      ]
    },
    {
      "cell_type": "code",
      "execution_count": null,
      "metadata": {
        "id": "hTD97qjaU1Oi"
      },
      "outputs": [],
      "source": [
        "%%read_sql\n",
        "SELECT * \n",
        "FROM album;\n",
        "\n",
        "SELECT artist_id, album_name AS album_title\n",
        "FROM album;"
      ]
    },
    {
      "cell_type": "markdown",
      "metadata": {
        "id": "eWgdmtHHURaS"
      },
      "source": [
        "## Question 10: List the 10 shortest tracks, in terms of playing time"
      ]
    },
    {
      "cell_type": "code",
      "execution_count": null,
      "metadata": {
        "id": "ygI_N9gBUhWy"
      },
      "outputs": [],
      "source": [
        "%%read_sql\n",
        "SELECT track_name, time\n",
        "FROM track\n",
        "ORDER BY time\n",
        "LIMIT 10;"
      ]
    }
  ],
  "metadata": {
    "anaconda-cloud": {},
    "colab": {
      "collapsed_sections": [],
      "name": "Copy of Session2-Assignment",
      "provenance": [],
      "include_colab_link": true
    },
    "kernelspec": {
      "display_name": "Python 3",
      "language": "python",
      "name": "python3"
    },
    "language_info": {
      "codemirror_mode": {
        "name": "ipython",
        "version": 3
      },
      "file_extension": ".py",
      "mimetype": "text/x-python",
      "name": "python",
      "nbconvert_exporter": "python",
      "pygments_lexer": "ipython3",
      "version": "3.8.2"
    }
  },
  "nbformat": 4,
  "nbformat_minor": 0
}
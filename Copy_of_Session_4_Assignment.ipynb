{
  "nbformat": 4,
  "nbformat_minor": 0,
  "metadata": {
    "anaconda-cloud": {},
    "colab": {
      "name": "Copy of Session 4 Assignment",
      "provenance": [],
      "collapsed_sections": [],
      "include_colab_link": true
    },
    "kernelspec": {
      "display_name": "Python 3",
      "language": "python",
      "name": "python3"
    },
    "language_info": {
      "codemirror_mode": {
        "name": "ipython",
        "version": 3
      },
      "file_extension": ".py",
      "mimetype": "text/x-pysethon",
      "name": "python",
      "nbconvert_exporter": "python",
      "pygments_lexer": "ipython3",
      "version": "3.6.6"
    }
  },
  "cells": [
    {
      "cell_type": "markdown",
      "metadata": {
        "id": "view-in-github",
        "colab_type": "text"
      },
      "source": [
        "<a href=\"https://colab.research.google.com/github/nm3924/introduction-to-databases/blob/master/Copy_of_Session_4_Assignment.ipynb\" target=\"_parent\"><img src=\"https://colab.research.google.com/assets/colab-badge.svg\" alt=\"Open In Colab\"/></a>"
      ]
    },
    {
      "cell_type": "markdown",
      "metadata": {
        "id": "SkZqhwkf8NUg"
      },
      "source": [
        "# Session 4: Join Queries Assignment\n",
        "\n",
        "\n",
        "In this segment we will connect to the *Music* database."
      ]
    },
    {
      "cell_type": "markdown",
      "metadata": {
        "id": "5u_6yLTDT6Kn"
      },
      "source": [
        "## Setup"
      ]
    },
    {
      "cell_type": "code",
      "metadata": {
        "id": "O9o9NsaO8hMy"
      },
      "source": [
        "# !sudo pip3 install PyMySQL sqlalchemy sql_magic"
      ],
      "execution_count": null,
      "outputs": []
    },
    {
      "cell_type": "code",
      "metadata": {
        "id": "EkIL-uRK8NUi"
      },
      "source": [
        "# This code creates a connection to the database\n",
        "from sqlalchemy import create_engine\n",
        "\n",
        "conn_string = \"mysql+pymysql://{user}:{password}@{host}/{db}?charset={encoding}\".format(\n",
        "    host=\"db.ipeirotis.org\",\n",
        "    user=\"student\",\n",
        "    db=\"music\",\n",
        "    password=\"dwdstudent2015\",\n",
        "    encoding=\"utf8mb4\",\n",
        ")\n",
        "\n",
        "engine = create_engine(conn_string)\n",
        "con = engine.connect()"
      ],
      "execution_count": null,
      "outputs": []
    },
    {
      "cell_type": "code",
      "metadata": {
        "id": "z7muzQXTUFkU"
      },
      "source": [
        "%reload_ext sql_magic"
      ],
      "execution_count": null,
      "outputs": []
    },
    {
      "cell_type": "code",
      "metadata": {
        "id": "uHRIPxBvUGfC"
      },
      "source": [
        "%config SQL.conn_name = 'engine'"
      ],
      "execution_count": null,
      "outputs": []
    },
    {
      "cell_type": "markdown",
      "metadata": {
        "id": "-7ZZAPj1yfrZ"
      },
      "source": [
        "This is an example of how you can write an SQL query in the notebook.\n",
        "You write your SQL query after the `%%read_sql` line."
      ]
    },
    {
      "cell_type": "code",
      "metadata": {
        "id": "sWa1Uv_6X9zi"
      },
      "source": [
        "%%read_sql\n",
        "SELECT * \n",
        "FROM played"
      ],
      "execution_count": null,
      "outputs": []
    },
    {
      "cell_type": "markdown",
      "metadata": {
        "id": "H0hhloRRUJlV"
      },
      "source": [
        "## Question 1: List all the album names by the band `New Order`"
      ]
    },
    {
      "cell_type": "code",
      "metadata": {
        "id": "eL_CnyPRUSGI"
      },
      "source": [
        "%%read_sql\n",
        "SELECT artist_name, album_name\n",
        "FROM artist A\n",
        "\tINNER JOIN album B ON A.artist_id = B.artist_id\n",
        "WHERE artist_name = 'New Order';"
      ],
      "execution_count": null,
      "outputs": []
    },
    {
      "cell_type": "markdown",
      "metadata": {
        "id": "Hz_1yX-EUeBQ"
      },
      "source": [
        "## Question 2: List the tracks for the album `Second Coming`"
      ]
    },
    {
      "cell_type": "code",
      "metadata": {
        "id": "HXy0Ygy3Uf_m"
      },
      "source": [
        "%%read_sql\n",
        "SELECT track_name, album_name\n",
        "FROM track T\n",
        "\tINNER JOIN album B on T.artist_id = B.artist_id\n",
        "WHERE album_name = 'Second Coming';"
      ],
      "execution_count": null,
      "outputs": []
    },
    {
      "cell_type": "markdown",
      "metadata": {
        "id": "UozymxRTW-wx"
      },
      "source": [
        "## Question 3: List all the track names, the corresponding album name, and the corresponding artist name"
      ]
    },
    {
      "cell_type": "code",
      "metadata": {
        "id": "ZwtqsRoGW-wz"
      },
      "source": [
        "%%read_sql\n",
        "\n",
        "SELECT track_name, artist_name, album_name\n",
        "FROM track T\n",
        "INNER JOIN artist A on A.artist_id = T.artist_id\n",
        "INNER JOIN album B on T.album_id = B.album_id;"
      ],
      "execution_count": null,
      "outputs": []
    },
    {
      "cell_type": "markdown",
      "metadata": {
        "id": "8NFSCApmXGZ8"
      },
      "source": [
        "## Question 4: List all all the tracks by the artist `The Stone Roses` and rank them by time length, from shortest to longest"
      ]
    },
    {
      "cell_type": "code",
      "metadata": {
        "id": "bcr5iccDXGZ9"
      },
      "source": [
        "%%read_sql\n",
        "   \n",
        "SELECT track_name, time, artist_name\n",
        "FROM track T\n",
        "\tINNER JOIN artist A on A.artist_id = T.artist_id\n",
        "WHERE artist_name = 'The Stone Roses' ORDER by time;"
      ],
      "execution_count": null,
      "outputs": []
    },
    {
      "cell_type": "markdown",
      "metadata": {
        "id": "nezZleqbUeI_"
      },
      "source": [
        "## Question 5: The table `played` contains the tracks that the user listened to, and the time that they listened to the songs. List the _distinct_ names of the artists that the user has listened to."
      ]
    },
    {
      "cell_type": "code",
      "metadata": {
        "id": "rNfpSzT3UgrM"
      },
      "source": [
        "%%read_sql\n",
        "SELECT played, artist_name\n",
        "FROM played P\n",
        "\tINNER JOIN artist A on A.artist_id = P.artist_id;"
      ],
      "execution_count": null,
      "outputs": []
    },
    {
      "cell_type": "markdown",
      "metadata": {
        "id": "_j2bCzADXODe"
      },
      "source": [
        "## Question 6: List the name of the artists and albums that have tracks with time length more than 10 minutes."
      ]
    },
    {
      "cell_type": "code",
      "metadata": {
        "id": "o9h005rlXODf"
      },
      "source": [
        "%%read_sql\n",
        "SELECT  artist_name, album_name\n",
        "FROM track T\n",
        "INNER JOIN artist A on A.artist_id = T.artist_id\n",
        "INNER JOIN album B on T.album_id = B.album_id\n",
        "WHERE time > 10;"
      ],
      "execution_count": null,
      "outputs": []
    },
    {
      "cell_type": "markdown",
      "metadata": {
        "id": "HF9cHpSDXaZd"
      },
      "source": [
        "## Question 7: List the album name, the artist name, and the track names, where both the name of the album and the name of the track contain the string `love` (it is fine if it is part of a longer word)."
      ]
    },
    {
      "cell_type": "code",
      "metadata": {
        "id": "mvLQdbdiXSmw"
      },
      "source": [
        "%%read_sql\n",
        "SELECT  track_name, artist_name, album_name\n",
        "FROM track T\n",
        "INNER JOIN artist A on A.artist_id = T.artist_id\n",
        "INNER JOIN album B on T.album_id = B.album_id\n",
        "WHERE track_name LIKE '%love%' AND album_name LIKE '%love%';"
      ],
      "execution_count": null,
      "outputs": []
    },
    {
      "cell_type": "markdown",
      "metadata": {
        "id": "ntj5f4n8U3dT"
      },
      "source": [
        "## Question 8: The table played contains the tracks that the user listened to, and the time that they listened to the songs. List the tracks that are in the database, but which the user has never listened to. (Note: Need an outer join)."
      ]
    },
    {
      "cell_type": "code",
      "metadata": {
        "id": "mPCpyhbwU3dV"
      },
      "source": [
        "%%read_sql\n",
        "SELECT *\n",
        "FROM track T\n",
        "\tLEFT OUTER JOIN played P ON T.track_id = P.track_id\n",
        "WHERE P.track_id IS NULL;"
      ],
      "execution_count": null,
      "outputs": []
    }
  ]
}
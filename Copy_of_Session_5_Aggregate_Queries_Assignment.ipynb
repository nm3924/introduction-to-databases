{
  "nbformat": 4,
  "nbformat_minor": 0,
  "metadata": {
    "anaconda-cloud": {},
    "colab": {
      "name": "Copy of Session 5: Aggregate Queries Assignment",
      "provenance": [],
      "collapsed_sections": [],
      "include_colab_link": true
    },
    "kernelspec": {
      "display_name": "Python 3",
      "language": "python",
      "name": "python3"
    },
    "language_info": {
      "codemirror_mode": {
        "name": "ipython",
        "version": 3
      },
      "file_extension": ".py",
      "mimetype": "text/x-python",
      "name": "python",
      "nbconvert_exporter": "python",
      "pygments_lexer": "ipython3",
      "version": "3.6.6"
    }
  },
  "cells": [
    {
      "cell_type": "markdown",
      "metadata": {
        "id": "view-in-github",
        "colab_type": "text"
      },
      "source": [
        "<a href=\"https://colab.research.google.com/github/nm3924/introduction-to-databases/blob/master/Copy_of_Session_5_Aggregate_Queries_Assignment.ipynb\" target=\"_parent\"><img src=\"https://colab.research.google.com/assets/colab-badge.svg\" alt=\"Open In Colab\"/></a>"
      ]
    },
    {
      "cell_type": "markdown",
      "metadata": {
        "id": "SkZqhwkf8NUg"
      },
      "source": [
        "# Session 5: Aggregate Queries Assignment\n",
        "\n",
        "\n",
        "In this segment we will connect to the *Music* database."
      ]
    },
    {
      "cell_type": "markdown",
      "metadata": {
        "id": "5u_6yLTDT6Kn"
      },
      "source": [
        "## Setup"
      ]
    },
    {
      "cell_type": "code",
      "metadata": {
        "id": "O9o9NsaO8hMy"
      },
      "source": [
        "\n",
        "# !sudo pip3 install PyMySQL sqlalchemy sql_magic"
      ],
      "execution_count": null,
      "outputs": []
    },
    {
      "cell_type": "code",
      "metadata": {
        "id": "EkIL-uRK8NUi"
      },
      "source": [
        "# This code creates a connection to the database\n",
        "from sqlalchemy import create_engine\n",
        "\n",
        "conn_string = \"mysql+pymysql://{user}:{password}@{host}/{db}?charset={encoding}\".format(\n",
        "    host=\"db.ipeirotis.org\",\n",
        "    user=\"student\",\n",
        "    db=\"music\",\n",
        "    password=\"dwdstudent2015\",\n",
        "    encoding=\"utf8mb4\",\n",
        ")\n",
        "\n",
        "engine = create_engine(conn_string)\n",
        "con = engine.connect()"
      ],
      "execution_count": null,
      "outputs": []
    },
    {
      "cell_type": "code",
      "metadata": {
        "id": "z7muzQXTUFkU"
      },
      "source": [
        "%reload_ext sql_magic"
      ],
      "execution_count": null,
      "outputs": []
    },
    {
      "cell_type": "code",
      "metadata": {
        "id": "uHRIPxBvUGfC"
      },
      "source": [
        "%config SQL.conn_name = 'engine'"
      ],
      "execution_count": null,
      "outputs": []
    },
    {
      "cell_type": "code",
      "metadata": {
        "id": "sWa1Uv_6X9zi"
      },
      "source": [
        "%%read_sql\n",
        "SELECT * \n",
        "FROM played"
      ],
      "execution_count": null,
      "outputs": []
    },
    {
      "cell_type": "markdown",
      "metadata": {
        "id": "pJIqxXsU3Ldx"
      },
      "source": [
        "## **ATTENTION: Remember that the primary key for an album consists of both the artist id and the album id. Similarly, the primary key for the tracks consists of the track id, the album id, and the artist id.**"
      ]
    },
    {
      "cell_type": "markdown",
      "metadata": {
        "id": "H0hhloRRUJlV"
      },
      "source": [
        "## Question 1: Count the number of artists in the database"
      ]
    },
    {
      "cell_type": "code",
      "metadata": {
        "id": "eL_CnyPRUSGI"
      },
      "source": [
        "%%read_sql\n",
        "SELECT COUNT(*)\n",
        "FROM artist;"
      ],
      "execution_count": null,
      "outputs": []
    },
    {
      "cell_type": "markdown",
      "metadata": {
        "id": "McZQXcp__OCu"
      },
      "source": [
        "## Question 2: Count the number of tracks in the database"
      ]
    },
    {
      "cell_type": "code",
      "metadata": {
        "id": "W7GayX2v_Nl8"
      },
      "source": [
        "SELECT COUNT(*)\n",
        "FROM track;"
      ],
      "execution_count": null,
      "outputs": []
    },
    {
      "cell_type": "markdown",
      "metadata": {
        "id": "Hz_1yX-EUeBQ"
      },
      "source": [
        "## Question 3: Show the average and standard deviation of the track length"
      ]
    },
    {
      "cell_type": "code",
      "metadata": {
        "id": "HXy0Ygy3Uf_m"
      },
      "source": [
        "%%read_sql\n",
        "SELECT ROUND(AVG(time),2) AS avg_track, ROUND(STDDEV(time),2) AS stddev_track\n",
        "FROM track;"
      ],
      "execution_count": null,
      "outputs": []
    },
    {
      "cell_type": "markdown",
      "metadata": {
        "id": "UozymxRTW-wx"
      },
      "source": [
        "## Question 4: Show the earliest and latest date that the user has played a song"
      ]
    },
    {
      "cell_type": "code",
      "metadata": {
        "id": "ZwtqsRoGW-wz"
      },
      "source": [
        "%%read_sql\n",
        "SELECT MIN(played) AS min_played, MAX(played) AS max_played\n",
        "FROM played;"
      ],
      "execution_count": null,
      "outputs": []
    },
    {
      "cell_type": "markdown",
      "metadata": {
        "id": "8NFSCApmXGZ8"
      },
      "source": [
        "## Question 5: For each artist id, count the number of albums in the database. You only need to show the id of the artist, not the name of the artist."
      ]
    },
    {
      "cell_type": "code",
      "metadata": {
        "id": "bcr5iccDXGZ9"
      },
      "source": [
        "%%read_sql\n",
        "SELECT artist_id, COUNT(*)\n",
        "FROM album\n",
        "GROUP BY artist_id;"
      ],
      "execution_count": null,
      "outputs": []
    },
    {
      "cell_type": "markdown",
      "metadata": {
        "id": "nezZleqbUeI_"
      },
      "source": [
        "## Question 6: For each album id, count the number of tracks for that album. You only need to show the id of the album, not its name."
      ]
    },
    {
      "cell_type": "code",
      "metadata": {
        "id": "rNfpSzT3UgrM"
      },
      "source": [
        "%%read_sql\n",
        "SELECT album_id, COUNT(*)\n",
        "FROM track\n",
        "GROUP BY album_id;"
      ],
      "execution_count": null,
      "outputs": []
    },
    {
      "cell_type": "markdown",
      "metadata": {
        "id": "_j2bCzADXODe"
      },
      "source": [
        "## Question 7: For each album id, show the total length of all the tracks in the album."
      ]
    },
    {
      "cell_type": "code",
      "metadata": {
        "id": "o9h005rlXODf"
      },
      "source": [
        "%%read_sql\n",
        "SELECT album_id, SUM(time)\n",
        "FROM track\n",
        "GROUP BY album_id;"
      ],
      "execution_count": null,
      "outputs": []
    },
    {
      "cell_type": "markdown",
      "metadata": {
        "id": "HF9cHpSDXaZd"
      },
      "source": [
        "## Question 8: List all the album id's, where the total album length (across all the album's tracks) is longer than 60 minutes."
      ]
    },
    {
      "cell_type": "code",
      "metadata": {
        "id": "mvLQdbdiXSmw"
      },
      "source": [
        "%%read_sql\n",
        "SELECT album_id, SUM(time) \n",
        "FROM track\n",
        "GROUP BY album_id\n",
        "HAVING SUM(time) > 60;"
      ],
      "execution_count": null,
      "outputs": []
    },
    {
      "cell_type": "markdown",
      "metadata": {
        "id": "ntj5f4n8U3dT"
      },
      "source": [
        "## Question 9: Find all track names that appear in more than one album, and show how many artists used the same track name (if any)."
      ]
    },
    {
      "cell_type": "code",
      "metadata": {
        "id": "mPCpyhbwU3dV"
      },
      "source": [
        "%%read_sql\n",
        "SELECT track_name, COUNT(track_id) AS num_track\n",
        "FROM track\n",
        "GROUP BY track_name\n",
        "HAVING COUNT(*) > 1;"
      ],
      "execution_count": null,
      "outputs": []
    },
    {
      "cell_type": "markdown",
      "metadata": {
        "id": "23bSA8IUU1Og"
      },
      "source": [
        "## Question 10: For each artist id, list the first and the last time that a user listened to a song by this artist."
      ]
    },
    {
      "cell_type": "code",
      "metadata": {
        "id": "hTD97qjaU1Oi"
      },
      "source": [
        "%%read_sql "
      ],
      "execution_count": null,
      "outputs": []
    }
  ]
}